{
 "cells": [
  {
   "cell_type": "code",
   "execution_count": 2,
   "id": "09308e28",
   "metadata": {},
   "outputs": [
    {
     "name": "stdout",
     "output_type": "stream",
     "text": [
      "torch version 2.7.1\n"
     ]
    }
   ],
   "source": [
    "import torch\n",
    "\n",
    "print('torch version', torch.__version__)"
   ]
  },
  {
   "cell_type": "code",
   "execution_count": 3,
   "id": "d4255939",
   "metadata": {},
   "outputs": [
    {
     "data": {
      "text/plain": [
       "7"
      ]
     },
     "execution_count": 3,
     "metadata": {},
     "output_type": "execute_result"
    }
   ],
   "source": [
    "## intro to Tensor\n",
    "### creating tensor\n",
    "#### Scalar\n",
    "scalar = torch.tensor(7)\n",
    "scalar\n",
    "scalar.ndim\n",
    "## get tensor cack as Python int\n",
    "scalar.item()\n",
    "# scalar[0]   # invalid for 0-d"
   ]
  },
  {
   "cell_type": "code",
   "execution_count": 19,
   "id": "5dfcd943",
   "metadata": {},
   "outputs": [
    {
     "data": {
      "text/plain": [
       "tensor(4)"
      ]
     },
     "execution_count": 19,
     "metadata": {},
     "output_type": "execute_result"
    }
   ],
   "source": [
    "# Vector\n",
    "vector = torch.tensor([4,4])\n",
    "vector\n",
    "vector.shape\n",
    "vector.ndim\n",
    "vector[1]"
   ]
  },
  {
   "cell_type": "code",
   "execution_count": 23,
   "id": "0597f518",
   "metadata": {},
   "outputs": [
    {
     "data": {
      "text/plain": [
       "torch.Size([2, 2])"
      ]
     },
     "execution_count": 23,
     "metadata": {},
     "output_type": "execute_result"
    }
   ],
   "source": [
    "## Matrix\n",
    "MATRIX = torch.tensor([[7,8],\n",
    "                       [9,10]])\n",
    "MATRIX[1]\n",
    "MATRIX.shape"
   ]
  },
  {
   "cell_type": "code",
   "execution_count": 25,
   "id": "21958fcb",
   "metadata": {},
   "outputs": [
    {
     "data": {
      "text/plain": [
       "tensor([[[1, 2, 3],\n",
       "         [3, 6, 9],\n",
       "         [2, 4, 5]]])"
      ]
     },
     "execution_count": 25,
     "metadata": {},
     "output_type": "execute_result"
    }
   ],
   "source": [
    "# TENSOR\n",
    "TENSOR = torch.tensor([[[1,2,3],\n",
    "                        [3,6,9],\n",
    "                        [2,4,5]]])\n",
    "TENSOR"
   ]
  },
  {
   "cell_type": "code",
   "execution_count": 26,
   "id": "d88bc0f0",
   "metadata": {},
   "outputs": [
    {
     "data": {
      "text/plain": [
       "3"
      ]
     },
     "execution_count": 26,
     "metadata": {},
     "output_type": "execute_result"
    }
   ],
   "source": [
    "TENSOR.ndim"
   ]
  },
  {
   "cell_type": "code",
   "execution_count": 27,
   "id": "82e3826b",
   "metadata": {},
   "outputs": [
    {
     "data": {
      "text/plain": [
       "torch.Size([1, 3, 3])"
      ]
     },
     "execution_count": 27,
     "metadata": {},
     "output_type": "execute_result"
    }
   ],
   "source": [
    "TENSOR.shape"
   ]
  },
  {
   "cell_type": "code",
   "execution_count": 67,
   "id": "137a1756",
   "metadata": {},
   "outputs": [
    {
     "data": {
      "text/plain": [
       "tensor([3, 6, 9])"
      ]
     },
     "execution_count": 67,
     "metadata": {},
     "output_type": "execute_result"
    }
   ],
   "source": [
    "TENSOR[0,1]"
   ]
  },
  {
   "cell_type": "code",
   "execution_count": 58,
   "id": "49872234",
   "metadata": {},
   "outputs": [
    {
     "data": {
      "text/plain": [
       "tensor(6)"
      ]
     },
     "execution_count": 58,
     "metadata": {},
     "output_type": "execute_result"
    }
   ],
   "source": [
    "TENSOR[0,1,1]"
   ]
  },
  {
   "cell_type": "code",
   "execution_count": 61,
   "id": "13e37009",
   "metadata": {},
   "outputs": [
    {
     "data": {
      "text/plain": [
       "3"
      ]
     },
     "execution_count": 61,
     "metadata": {},
     "output_type": "execute_result"
    }
   ],
   "source": [
    "T = TENSOR[[0]]\n",
    "T.ndim"
   ]
  },
  {
   "cell_type": "code",
   "execution_count": 54,
   "id": "21eaf458",
   "metadata": {},
   "outputs": [
    {
     "data": {
      "text/plain": [
       "np.int64(8)"
      ]
     },
     "execution_count": 54,
     "metadata": {},
     "output_type": "execute_result"
    }
   ],
   "source": [
    "import numpy as np\n",
    "arr = np.array([[[0,1,3],\n",
    "                 [1,5,8],\n",
    "                 [6,9,4]]])\n",
    "arr.ndim\n",
    "arr.shape\n",
    "arr[0][1][2]\n",
    "arr[0,1,2]"
   ]
  },
  {
   "cell_type": "code",
   "execution_count": 72,
   "id": "0d0361b6",
   "metadata": {},
   "outputs": [
    {
     "data": {
      "text/plain": [
       "2"
      ]
     },
     "execution_count": 72,
     "metadata": {},
     "output_type": "execute_result"
    }
   ],
   "source": [
    "# Random Tensor\n",
    "rand = torch.rand(3,2)\n",
    "rand\n",
    "rand.shape\n",
    "rand.ndim"
   ]
  },
  {
   "cell_type": "code",
   "execution_count": 74,
   "id": "8c0001c6",
   "metadata": {},
   "outputs": [
    {
     "data": {
      "text/plain": [
       "(torch.Size([224, 224, 3]), 3)"
      ]
     },
     "execution_count": 74,
     "metadata": {},
     "output_type": "execute_result"
    }
   ],
   "source": [
    "# create a rand tensor with similar shape to img tensor\n",
    "rand_img_size_tensor = torch.rand(224,224, 3) # H, W and colour chanels\n",
    "rand_img_size_tensor.shape, rand_img_size_tensor.ndim"
   ]
  },
  {
   "cell_type": "code",
   "execution_count": null,
   "id": "b73133f6",
   "metadata": {},
   "outputs": [
    {
     "data": {
      "text/plain": [
       "tensor([[1., 0., 0.],\n",
       "        [0., 1., 0.],\n",
       "        [0., 0., 1.]])"
      ]
     },
     "execution_count": 9,
     "metadata": {},
     "output_type": "execute_result"
    }
   ],
   "source": [
    "##Tensor of zeroes or Ones or Identity\n",
    "zeros = torch.zeros(3, 4)\n",
    "zeros\n",
    "ones = torch.ones(3, 2)\n",
    "ones\n",
    "identity = torch.eye(3)\n",
    "identity"
   ]
  },
  {
   "cell_type": "code",
   "execution_count": 20,
   "id": "3b197cf9",
   "metadata": {},
   "outputs": [
    {
     "data": {
      "text/plain": [
       "tensor([ 1,  2,  3,  4,  5,  6,  7,  8,  9, 10])"
      ]
     },
     "execution_count": 20,
     "metadata": {},
     "output_type": "execute_result"
    }
   ],
   "source": [
    "# Creat range\n",
    "rang = torch.arange(1,11,1)\n",
    "rang"
   ]
  },
  {
   "cell_type": "code",
   "execution_count": 21,
   "id": "ba573827",
   "metadata": {},
   "outputs": [
    {
     "data": {
      "text/plain": [
       "tensor([1, 1, 1, 1, 1, 1, 1, 1, 1, 1])"
      ]
     },
     "execution_count": 21,
     "metadata": {},
     "output_type": "execute_result"
    }
   ],
   "source": [
    "## creating tensors like\n",
    "\n",
    "ten_zeros = torch.zeros_like(rang)  # creat same tensor like above but with all zero ellemnts\n",
    "ten_ones = torch.ones_like(rang)  # creat same tensor like above but with all one ellemnts\n",
    "ten_ones"
   ]
  },
  {
   "cell_type": "code",
   "execution_count": null,
   "id": "4d01c5ce",
   "metadata": {},
   "outputs": [
    {
     "data": {
      "text/plain": [
       "tensor([1., 2., 3.])"
      ]
     },
     "execution_count": 23,
     "metadata": {},
     "output_type": "execute_result"
    }
   ],
   "source": [
    "## Float tensor \n",
    "float_tensor = torch.tensor([1.0, 2.0, 3.0],\n",
    "                             dtype=torch.float32)\n",
    "float_tensor"
   ]
  },
  {
   "cell_type": "code",
   "execution_count": 31,
   "id": "cc3bd8c5",
   "metadata": {},
   "outputs": [
    {
     "data": {
      "text/plain": [
       "tensor([6, 7, 8])"
      ]
     },
     "execution_count": 31,
     "metadata": {},
     "output_type": "execute_result"
    }
   ],
   "source": [
    "tensr = torch.tensor([1, 2, 3])\n",
    "tensr + 5"
   ]
  },
  {
   "cell_type": "code",
   "execution_count": null,
   "id": "c5aab828",
   "metadata": {},
   "outputs": [
    {
     "data": {
      "text/plain": [
       "tensor([[19, 22],\n",
       "        [43, 50]])"
      ]
     },
     "execution_count": 36,
     "metadata": {},
     "output_type": "execute_result"
    }
   ],
   "source": [
    "# Matrix multiplication (dot product)\n",
    "# element-wise multiplication\n",
    "tens1 = torch.tensor([[1, 2], [3, 4]])\n",
    "tens2 = torch.tensor([[5, 6], [7, 8]])\n",
    "\n",
    "mult = torch.matmul(tens1, tens2)  # more commonly used\n",
    "## or equivalently\n",
    "mult = torch.mm(tens1, tens2)\n",
    "## or equivalently\n",
    "mult = tens1 @ tens2\n",
    "mult"
   ]
  },
  {
   "cell_type": "code",
   "execution_count": 43,
   "id": "ceb731c4",
   "metadata": {},
   "outputs": [
    {
     "data": {
      "text/plain": [
       "(tensor([[1, 2],\n",
       "         [3, 4]]),\n",
       " tensor([[1, 3],\n",
       "         [2, 4]]),\n",
       " tensor([[1, 3],\n",
       "         [2, 4]]))"
      ]
     },
     "execution_count": 43,
     "metadata": {},
     "output_type": "execute_result"
    }
   ],
   "source": [
    "## transpose of a tensor\n",
    "transpose_tens1 = tens1.t()\n",
    "tens1, transpose_tens1, tens1.T"
   ]
  },
  {
   "cell_type": "code",
   "execution_count": null,
   "id": "00201c51",
   "metadata": {},
   "outputs": [
    {
     "data": {
      "text/plain": [
       "tensor(46.)"
      ]
     },
     "execution_count": 47,
     "metadata": {},
     "output_type": "execute_result"
    }
   ],
   "source": [
    "### Find Matrix min, max, mean, sum, etc. (tensor aggregation)\n",
    "x = torch.arange(1, 100, 10)\n",
    "\n",
    "torch.min(x), torch.max(x), torch.sum(x)\n",
    "x.min()\n",
    "torch.mean(x.float())  ## torch func requires float tensor\n",
    "# or equivalently\n",
    "x.float().mean()\n",
    "\n",
    "\n"
   ]
  },
  {
   "cell_type": "code",
   "execution_count": 50,
   "id": "94062d18",
   "metadata": {},
   "outputs": [
    {
     "data": {
      "text/plain": [
       "tensor(0)"
      ]
     },
     "execution_count": 50,
     "metadata": {},
     "output_type": "execute_result"
    }
   ],
   "source": [
    "### Finding the position of elements\n",
    "x1 = torch.arange(3, 100, 10)\n",
    "# find the index position that element has min value\n",
    "x_indx = x1.argmin()\n",
    "x_indx"
   ]
  },
  {
   "cell_type": "code",
   "execution_count": null,
   "id": "7186c909",
   "metadata": {},
   "outputs": [],
   "source": [
    "### reshape, squeeze, unsqueeze and stack tensors\n",
    "# view - return a new tensor with the same data but different shape\n",
    "# squeeze - remove all dimensions of size 1\n",
    "# unsqueeze - add a dimension of size 1\n",
    "# stack - combine multiple tensors on top/side of each other\n",
    "# permute - change the order of dimensions\n"
   ]
  },
  {
   "cell_type": "code",
   "execution_count": 57,
   "id": "0c188fac",
   "metadata": {},
   "outputs": [
    {
     "data": {
      "text/plain": [
       "(tensor([ 1.,  2.,  3.,  4.,  5.,  6.,  7.,  8.,  9., 10.]), torch.Size([10]))"
      ]
     },
     "execution_count": 57,
     "metadata": {},
     "output_type": "execute_result"
    }
   ],
   "source": [
    "import torch\n",
    "x = torch.arange(1., 11.)\n",
    "x , x.shape\n"
   ]
  },
  {
   "cell_type": "code",
   "execution_count": null,
   "id": "04b8004c",
   "metadata": {},
   "outputs": [
    {
     "data": {
      "text/plain": [
       "tensor([[ 1.,  2.,  3.,  4.,  5.,  6.,  7.,  8.,  9., 10.]])"
      ]
     },
     "execution_count": 58,
     "metadata": {},
     "output_type": "execute_result"
    }
   ],
   "source": [
    "# add an extra dimension\n",
    "x_reshaped = x.reshape(1,10)  # or (2,5) or (10,1) \n",
    "\n",
    "x_reshaped.shape, x.shape\n",
    "x_reshaped"
   ]
  },
  {
   "cell_type": "code",
   "execution_count": 65,
   "id": "4ba2d043",
   "metadata": {},
   "outputs": [
    {
     "data": {
      "text/plain": [
       "(tensor([ 1.,  2.,  3.,  4.,  5.,  6.,  7.,  8., 99., 10.]),\n",
       " tensor([[ 1.,  2.,  3.,  4.,  5.],\n",
       "         [ 6.,  7.,  8., 99., 10.]]))"
      ]
     },
     "execution_count": 65,
     "metadata": {},
     "output_type": "execute_result"
    }
   ],
   "source": [
    "# change a view\n",
    "x_view = x.view(2, 5)\n",
    "x_view\n",
    "\n",
    "# changing x_view causes x to be changed as well\n",
    "x_view[1, 3] = 99\n",
    "x, x_view"
   ]
  },
  {
   "cell_type": "code",
   "execution_count": 80,
   "id": "495f1b12",
   "metadata": {},
   "outputs": [
    {
     "data": {
      "text/plain": [
       "tensor([[ 1.,  1.,  1.],\n",
       "        [ 2.,  2.,  2.],\n",
       "        [ 3.,  3.,  3.],\n",
       "        [ 4.,  4.,  4.],\n",
       "        [ 5.,  5.,  5.],\n",
       "        [ 6.,  6.,  6.],\n",
       "        [ 7.,  7.,  7.],\n",
       "        [ 8.,  8.,  8.],\n",
       "        [99., 99., 99.],\n",
       "        [10., 10., 10.]])"
      ]
     },
     "execution_count": 80,
     "metadata": {},
     "output_type": "execute_result"
    }
   ],
   "source": [
    "# stack tensor on top of another tensor\n",
    "z = torch.arange(1., 11.)\n",
    "z_stacked = torch.stack([x, x,x], dim=1)\n",
    "z_stacked"
   ]
  },
  {
   "cell_type": "code",
   "execution_count": 95,
   "id": "3b8b73aa",
   "metadata": {},
   "outputs": [
    {
     "data": {
      "text/plain": [
       "torch.Size([1, 10])"
      ]
     },
     "execution_count": 95,
     "metadata": {},
     "output_type": "execute_result"
    }
   ],
   "source": [
    "## squeeze and unsqueeze\n",
    "y = torch.arange(1., 11.).reshape(10,1)\n",
    "y_squeez = y.squeeze()   # or torch.squeeze(y)\n",
    "y.shape , y_squeez.shape   # it removes the dimension of size 1\n",
    "y_unsqueez = y_squeez.unsqueeze(0)   # \n",
    "y_unsqueez.shape    \n"
   ]
  },
  {
   "cell_type": "code",
   "execution_count": null,
   "id": "bd4d94e3",
   "metadata": {},
   "outputs": [
    {
     "name": "stdout",
     "output_type": "stream",
     "text": [
      "original shape: torch.Size([224, 223, 3])\n",
      "permuted shape: torch.Size([3, 224, 223])\n"
     ]
    }
   ],
   "source": [
    "## torch.permute rearranging dimensions of tensors\n",
    "x_original = torch.rand(224, 223, 3)   \n",
    "\n",
    "# permute the original tensor to rearrange the axis (or dimensions) order\n",
    "x_permuted = x_original.permute(2, 0, 1)  # Shift axis (0 ->2, 1 -> 2, 2 -> 1)\n",
    "\n",
    "print(f'original shape: {x_original.shape}')\n",
    "print(f'permuted shape: {x_permuted.shape}')\n",
    "\n",
    "## permute is a view of the original tensor- it does not create a copy"
   ]
  },
  {
   "cell_type": "code",
   "execution_count": 99,
   "id": "ef8644fd",
   "metadata": {},
   "outputs": [
    {
     "data": {
      "text/plain": [
       "(tensor([[[1, 2, 3],\n",
       "          [4, 5, 6],\n",
       "          [7, 8, 9]]]),\n",
       " torch.Size([1, 3, 3]))"
      ]
     },
     "execution_count": 99,
     "metadata": {},
     "output_type": "execute_result"
    }
   ],
   "source": [
    "### indexing - selecting elements from a tensor\n",
    "### it is similar to numpy indexing\n",
    "\n",
    "import torch\n",
    "x = torch.arange(1, 10).reshape(1,3, 3)\n",
    "x, x.shape"
   ]
  },
  {
   "cell_type": "code",
   "execution_count": null,
   "id": "c39e7043",
   "metadata": {},
   "outputs": [
    {
     "data": {
      "text/plain": [
       "tensor([[1, 2, 3],\n",
       "        [4, 5, 6],\n",
       "        [7, 8, 9]])"
      ]
     },
     "execution_count": 100,
     "metadata": {},
     "output_type": "execute_result"
    }
   ],
   "source": [
    "x[0]  # on the first bracket gives us the 0 th element- target the outer bracket"
   ]
  },
  {
   "cell_type": "code",
   "execution_count": null,
   "id": "f14ff590",
   "metadata": {},
   "outputs": [
    {
     "data": {
      "text/plain": [
       "tensor([1, 2, 3])"
      ]
     },
     "execution_count": 102,
     "metadata": {},
     "output_type": "execute_result"
    }
   ],
   "source": [
    "# lets index on the middle braket (dim =1 )\n",
    "x[0,0]  # give us the 0 th element of the middle tensor - target the first  0 then the first 0 of the second\n"
   ]
  },
  {
   "cell_type": "code",
   "execution_count": null,
   "id": "f339ac9a",
   "metadata": {},
   "outputs": [
    {
     "data": {
      "text/plain": [
       "tensor(1)"
      ]
     },
     "execution_count": 103,
     "metadata": {},
     "output_type": "execute_result"
    }
   ],
   "source": [
    "# lets index on the last bracket (dim =2 )\n",
    "# target 0 th element of the first bracket, then the first element of the 2 and the first elemnt of the bracket\n",
    "x[0,0,0]   # give us the 0 th element of the last tensor"
   ]
  },
  {
   "cell_type": "code",
   "execution_count": 107,
   "id": "cbcc3742",
   "metadata": {},
   "outputs": [
    {
     "data": {
      "text/plain": [
       "tensor([1, 4, 7])"
      ]
     },
     "execution_count": 107,
     "metadata": {},
     "output_type": "execute_result"
    }
   ],
   "source": [
    "x[0,:,0]"
   ]
  },
  {
   "cell_type": "code",
   "execution_count": 112,
   "id": "b66de58c",
   "metadata": {},
   "outputs": [
    {
     "data": {
      "text/plain": [
       "tensor([3, 6, 9])"
      ]
     },
     "execution_count": 112,
     "metadata": {},
     "output_type": "execute_result"
    }
   ],
   "source": [
    "# index on x to return 3, 6, 9\n",
    "x[0,:,2]\n"
   ]
  },
  {
   "cell_type": "code",
   "execution_count": null,
   "id": "e95d0a94",
   "metadata": {},
   "outputs": [
    {
     "data": {
      "text/plain": [
       "(array([1, 2, 3]), tensor([1, 2, 3]))"
      ]
     },
     "execution_count": 128,
     "metadata": {},
     "output_type": "execute_result"
    }
   ],
   "source": [
    "# PyTorch tensors vs NumPy arrays\n",
    "\n",
    "# numpy array to PyTorch tensor\n",
    "import numpy as np\n",
    "import torch \n",
    "array = np.array([1, 2, 3] )\n",
    "\n",
    "tensor = torch.from_numpy(array) # or tensor = torch.tensor(array)\n",
    "\n",
    "array, tensor"
   ]
  },
  {
   "cell_type": "code",
   "execution_count": 124,
   "id": "3f272b6b",
   "metadata": {},
   "outputs": [],
   "source": [
    "# tensor to numpy array\n",
    "tensor = torch.ones(3)\n",
    "numpy_arr = tensor.numpy()"
   ]
  },
  {
   "cell_type": "code",
   "execution_count": 134,
   "id": "d536f1f1",
   "metadata": {},
   "outputs": [
    {
     "data": {
      "text/plain": [
       "tensor([[0.8823, 0.9150],\n",
       "        [0.3829, 0.9593],\n",
       "        [0.3904, 0.6009]])"
      ]
     },
     "execution_count": 134,
     "metadata": {},
     "output_type": "execute_result"
    }
   ],
   "source": [
    "# reproducibility\n",
    "torch.manual_seed(42)\n",
    "torch.rand(3,2)"
   ]
  },
  {
   "cell_type": "code",
   "execution_count": 136,
   "id": "608f3651",
   "metadata": {},
   "outputs": [
    {
     "data": {
      "text/plain": [
       "device(type='cpu')"
      ]
     },
     "execution_count": 136,
     "metadata": {},
     "output_type": "execute_result"
    }
   ],
   "source": [
    "#Running tensors and Pytorch objects on the GPU\n",
    "# !nvidia-smi    ### try on colab!\n",
    "torch.cuda.is_available()\n",
    "# device agnostic code\n",
    "device = torch.device(\"cuda\" if torch.cuda.is_available() else \"cpu\") \n",
    "device"
   ]
  },
  {
   "cell_type": "code",
   "execution_count": null,
   "id": "fbc551b5",
   "metadata": {},
   "outputs": [],
   "source": []
  }
 ],
 "metadata": {
  "kernelspec": {
   "display_name": "qcomputing",
   "language": "python",
   "name": "python3"
  },
  "language_info": {
   "codemirror_mode": {
    "name": "ipython",
    "version": 3
   },
   "file_extension": ".py",
   "mimetype": "text/x-python",
   "name": "python",
   "nbconvert_exporter": "python",
   "pygments_lexer": "ipython3",
   "version": "3.13.7"
  }
 },
 "nbformat": 4,
 "nbformat_minor": 5
}
